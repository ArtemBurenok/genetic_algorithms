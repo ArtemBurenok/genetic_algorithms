{
  "nbformat": 4,
  "nbformat_minor": 0,
  "metadata": {
    "colab": {
      "provenance": [],
      "include_colab_link": true
    },
    "kernelspec": {
      "name": "python3",
      "display_name": "Python 3"
    },
    "language_info": {
      "name": "python"
    }
  },
  "cells": [
    {
      "cell_type": "markdown",
      "metadata": {
        "id": "view-in-github",
        "colab_type": "text"
      },
      "source": [
        "<a href=\"https://colab.research.google.com/github/ArtemBurenok/genetic_algorithms/blob/main/tree_symbolic_regression.ipynb\" target=\"_parent\"><img src=\"https://colab.research.google.com/assets/colab-badge.svg\" alt=\"Open In Colab\"/></a>"
      ]
    },
    {
      "cell_type": "code",
      "source": [
        "import math\n",
        "import random"
      ],
      "metadata": {
        "id": "C_8gORJTISpt"
      },
      "execution_count": null,
      "outputs": []
    },
    {
      "cell_type": "code",
      "source": [
        "class StackDouble:\n",
        "    def __init__(self):\n",
        "        self.stack = []\n",
        "\n",
        "    def push(self, value):\n",
        "        self.stack.append(value)\n",
        "\n",
        "    def pop(self):\n",
        "        if self.stack:\n",
        "            return self.stack.pop()\n",
        "        return 0.0  # Assuming 0 for empty stack to prevent errors\n",
        "\n",
        "    def is_empty(self):\n",
        "        return len(self.stack) == 0"
      ],
      "metadata": {
        "id": "Y4yw6JKQISi6"
      },
      "execution_count": null,
      "outputs": []
    },
    {
      "cell_type": "code",
      "source": [
        "def count_exp(x,y,z, str_expression):\n",
        "    top = StackDouble()\n",
        "    index = 0\n",
        "\n",
        "    while index < len(str_expression):\n",
        "        char = str_expression[index]\n",
        "        if char == '+':\n",
        "            top.push(top.pop() + top.pop())\n",
        "        elif char == '-':\n",
        "            top.push(-(top.pop() - top.pop()))\n",
        "        elif char == '*':\n",
        "            top.push(top.pop() * top.pop())\n",
        "        elif char == '/':\n",
        "            div_count(top)\n",
        "        elif char == '^':\n",
        "            exponent = top.pop()\n",
        "            base = top.pop()\n",
        "            top.push(math.pow(base, exponent))\n",
        "        elif char == 's':\n",
        "            top.push(math.sin(top.pop()))\n",
        "        elif char == 'c':\n",
        "            top.push(math.cos(top.pop()))\n",
        "        elif char == 't':\n",
        "            top.push(math.tan(top.pop()))\n",
        "        elif char == 'g':\n",
        "            ctg_count(top)\n",
        "        elif char == 'e':\n",
        "            e_count(top)\n",
        "        elif char == 'q':\n",
        "            top.push(math.sqrt(top.pop()))\n",
        "        elif char == 'l':\n",
        "            top.push(math.log(top.pop()))\n",
        "        elif char == '~':\n",
        "            top.push(-top.pop())\n",
        "        elif char == 'x':\n",
        "\n",
        "            top.push(x)\n",
        "        elif char == 'y':\n",
        "\n",
        "            top.push(y)\n",
        "        elif char == 'z':\n",
        "            top.push(z)\n",
        "        elif char != ' ':\n",
        "            index, num = count_num(str_expression, index)\n",
        "            top.push(num)\n",
        "\n",
        "        index += 1\n",
        "\n",
        "    return top.pop() if not top.is_empty() else 0"
      ],
      "metadata": {
        "id": "VlKce240ISfM"
      },
      "execution_count": null,
      "outputs": []
    },
    {
      "cell_type": "code",
      "source": [
        "def div_count(top):\n",
        "    a = top.pop()\n",
        "    b = top.pop()\n",
        "    if a != 0:\n",
        "        top.push(b / a)\n",
        "    else:\n",
        "        top.push(2.0)  # Assuming 2.0 as default value for division by zero"
      ],
      "metadata": {
        "id": "eOTaKQovIcRp"
      },
      "execution_count": null,
      "outputs": []
    },
    {
      "cell_type": "code",
      "source": [
        "def ctg_count(top):\n",
        "    a = top.pop()\n",
        "    if a != 0:\n",
        "        top.push(1.0 / math.tan(a))\n",
        "    else:\n",
        "        top.push(2.0)  # Assuming 2.0 as default value for ctg(0)"
      ],
      "metadata": {
        "id": "dcHc_yuyIcOy"
      },
      "execution_count": null,
      "outputs": []
    },
    {
      "cell_type": "code",
      "source": [
        "def e_count(top):\n",
        "    a = top.pop()\n",
        "    top.push(math.exp(a))"
      ],
      "metadata": {
        "id": "6XGwAbpoIcMx"
      },
      "execution_count": null,
      "outputs": []
    },
    {
      "cell_type": "code",
      "source": [
        "def count_num(str_expression, index):\n",
        "    num_str = ''\n",
        "    while index < len(str_expression) and (str_expression[index].isdigit() or str_expression[index] == '.'):\n",
        "        num_str += str_expression[index]\n",
        "        index += 1\n",
        "    return index - 1, float(num_str) if num_str else 0.0"
      ],
      "metadata": {
        "id": "AyuIY1IYIcKQ"
      },
      "execution_count": null,
      "outputs": []
    },
    {
      "cell_type": "code",
      "source": [
        "class Stack:\n",
        "    def __init__(self):\n",
        "        self.stack = []\n",
        "\n",
        "    def push(self, value):\n",
        "        self.stack.append(value)\n",
        "\n",
        "    def pop(self):\n",
        "        if self.stack:\n",
        "            return self.stack.pop()\n",
        "        return None\n",
        "\n",
        "    def peek(self):\n",
        "        if self.stack:\n",
        "            return self.stack[-1]\n",
        "        return None\n",
        "\n",
        "    def is_empty(self):\n",
        "        return len(self.stack) == 0"
      ],
      "metadata": {
        "id": "jTqV28rHIcIB"
      },
      "execution_count": null,
      "outputs": []
    },
    {
      "cell_type": "code",
      "source": [
        "def postfix(exp):\n",
        "    op = Stack()\n",
        "    result = []\n",
        "    index = 0\n",
        "    x_num = 0\n",
        "    y_num = 0\n",
        "    z_num = 0\n",
        "\n",
        "    while index < len(exp):\n",
        "        char = exp[index]\n",
        "        if char == '+':\n",
        "            case_plus(exp, index, op, result)\n",
        "        elif char == '-':\n",
        "            index = case_minus(exp, index, op, result)\n",
        "        elif char == '/':\n",
        "            case_div(exp, index, op, result)\n",
        "        elif char == '*':\n",
        "            case_mul(exp, index, op, result)\n",
        "        elif char == '^':\n",
        "            case_pow(exp, index, op, result)\n",
        "        elif char == '(' or char == ')':\n",
        "            case_brackets(exp, index, op, result)\n",
        "        elif exp[index] == 's' and exp[index + 1:index + 3] == 'in':\n",
        "            op.push('s')\n",
        "            index += 2\n",
        "        elif exp[index] == 's' and exp[index + 1:index + 4] == 'qrt':\n",
        "            op.push('q')\n",
        "            index += 3\n",
        "        elif exp[index] == 'c' and exp[index + 1:index + 3] == 'os':\n",
        "            op.push('c')\n",
        "            index += 2\n",
        "        elif exp[index] == 'c' and exp[index + 1:index + 3] == 'tg':\n",
        "            op.push('g')\n",
        "            index += 2\n",
        "        elif exp[index] == 't' and exp[index + 1:index + 3] == 'an':\n",
        "            op.push('t')\n",
        "            index += 2\n",
        "        elif exp[index] == 'e' and exp[index + 1:index + 3] == 'xp':\n",
        "            op.push('e')\n",
        "            index += 2\n",
        "        elif exp[index] == 'l' and exp[index + 1] == 'n':\n",
        "            op.push('l')\n",
        "            index += 1\n",
        "\n",
        "        elif char == 'x':\n",
        "            result.append('x')\n",
        "            x_num += 1\n",
        "        elif char == 'y':\n",
        "            result.append('y')\n",
        "            y_num += 1\n",
        "        elif char == 'z':\n",
        "            result.append('z')\n",
        "            z_num += 1\n",
        "        else:  # Assume it's a number or a decimal point\n",
        "            index, num = case_num(exp, index)\n",
        "            result.append(num)\n",
        "\n",
        "        index += 1\n",
        "\n",
        "    while not op.is_empty():\n",
        "        result.append(op.pop())\n",
        "        if not op.is_empty():\n",
        "            result.append(' ')\n",
        "\n",
        "    return ' '.join(result)"
      ],
      "metadata": {
        "id": "lWW73di8Isdg"
      },
      "execution_count": null,
      "outputs": []
    },
    {
      "cell_type": "code",
      "source": [
        "def case_pow(exp, index, op, result):\n",
        "    # The power operator has the highest precedence and is right-associative.\n",
        "    while not op.is_empty() and op.peek() == '^':\n",
        "        result.append(op.pop())\n",
        "        result.append(' ')\n",
        "    op.push('^')\n"
      ],
      "metadata": {
        "id": "xsrpXEkvIvb3"
      },
      "execution_count": null,
      "outputs": []
    },
    {
      "cell_type": "code",
      "source": [
        "def case_plus(exp, index, op, result):\n",
        "    while not op.is_empty() and op.peek() in '+-/*sctgl':\n",
        "        result.append(op.pop())\n",
        "        result.append(' ')\n",
        "    op.push('+')"
      ],
      "metadata": {
        "id": "edp_tpjwIveU"
      },
      "execution_count": null,
      "outputs": []
    },
    {
      "cell_type": "code",
      "source": [
        "def case_minus(exp, index, op, result):\n",
        "    if index == 0 or exp[index - 1] == '(':\n",
        "        op.push('~')\n",
        "    else:\n",
        "        while not op.is_empty() and op.peek() in '+-/*sctgl':\n",
        "            result.append(op.pop())\n",
        "            result.append(' ')\n",
        "        op.push('-')\n",
        "    return index\n"
      ],
      "metadata": {
        "id": "zmDuAacrIvgt"
      },
      "execution_count": null,
      "outputs": []
    },
    {
      "cell_type": "code",
      "source": [
        "def case_div(exp, index, op, result):\n",
        "    while not op.is_empty() and op.peek() in '/*sctgl':\n",
        "        result.append(op.pop())\n",
        "        result.append(' ')\n",
        "    op.push('/')"
      ],
      "metadata": {
        "id": "07FrIFO0I0is"
      },
      "execution_count": null,
      "outputs": []
    },
    {
      "cell_type": "code",
      "source": [
        "def case_mul(exp, index, op, result):\n",
        "    while not op.is_empty() and op.peek() in '/*sctgl':\n",
        "        result.append(op.pop())\n",
        "        result.append(' ')\n",
        "    op.push('*')"
      ],
      "metadata": {
        "id": "VhZr8QbfI0lA"
      },
      "execution_count": null,
      "outputs": []
    },
    {
      "cell_type": "code",
      "source": [
        "def case_brackets(exp, index, op, result):\n",
        "    if exp[index] == '(':\n",
        "        op.push('(')\n",
        "    else:\n",
        "        while not op.is_empty() and op.peek() != '(':\n",
        "            result.append(op.pop())\n",
        "            result.append(' ')\n",
        "        op.pop()"
      ],
      "metadata": {
        "id": "KQN_R-3II0nC"
      },
      "execution_count": null,
      "outputs": []
    },
    {
      "cell_type": "code",
      "source": [
        "def case_functions(exp, index, op):\n",
        "    print(exp[index])\n",
        "    if exp[index] == 's' and exp[index + 1:index + 3] == 'in':\n",
        "        op.push('s')\n",
        "        index += 2\n",
        "    elif exp[index] == 's' and exp[index + 1:index + 4] == 'qrt':\n",
        "        op.push('q')\n",
        "        index += 3\n",
        "    elif exp[index] == 'c' and exp[index + 1:index + 3] == 'os':\n",
        "        op.push('c')\n",
        "        index += 2\n",
        "    elif exp[index] == 'c' and exp[index + 1:index + 3] == 'tg':\n",
        "        op.push('g')\n",
        "        index += 2\n",
        "    elif exp[index] == 't' and exp[index + 1:index + 3] == 'an':\n",
        "        op.push('t')\n",
        "        index += 2\n",
        "    elif exp[index] == 'l' and exp[index + 1] == 'n':\n",
        "        op.push('l')\n",
        "        index += 1\n",
        "\n",
        "    return index"
      ],
      "metadata": {
        "id": "aPmd4WJvI9es"
      },
      "execution_count": null,
      "outputs": []
    },
    {
      "cell_type": "code",
      "source": [
        "def case_num(exp, index):\n",
        "    num = ''\n",
        "    while index < len(exp) and (exp[index].isdigit() or exp[index] == '.'):\n",
        "        num += exp[index]\n",
        "        index += 1\n",
        "    if num:\n",
        "        return index - 1, num  # Adjust index since it will be incremented in main loop\n",
        "    return index, ''"
      ],
      "metadata": {
        "id": "kFhdvYBDI9hH"
      },
      "execution_count": null,
      "outputs": []
    },
    {
      "cell_type": "code",
      "source": [
        "class TreeNode:\n",
        "    def __init__(self, value, index):\n",
        "        self.value = value\n",
        "        self.index = index\n",
        "        self.left = None\n",
        "        self.right = None"
      ],
      "metadata": {
        "id": "8Y02M3ZWI9jN"
      },
      "execution_count": null,
      "outputs": []
    },
    {
      "cell_type": "code",
      "source": [
        "def build_expression_tree(postfix_expression):\n",
        "    stack = []\n",
        "\n",
        "    operators = set(['+', '-', '*', '/','l','e'])\n",
        "    tokens = postfix_expression.split()\n",
        "    index=0\n",
        "    for token in tokens:\n",
        "        if token.isdigit() or token=='x' or token=='y' or token=='z' or (token[0] == '-' and token[1:].isdigit()):\n",
        "            node = TreeNode(token,index)\n",
        "            index+=1\n",
        "            stack.append(node)\n",
        "        elif token in operators:\n",
        "            node = TreeNode(token,index)\n",
        "            index+=1\n",
        "            node.right = stack.pop()\n",
        "            if token!='l' and token!='e':\n",
        "                node.left = stack.pop()\n",
        "            stack.append(node)\n",
        "\n",
        "    return stack[0]"
      ],
      "metadata": {
        "id": "hWPnhYT4I9mC"
      },
      "execution_count": null,
      "outputs": []
    },
    {
      "cell_type": "code",
      "source": [
        "def print_tree(node, level=0, prefix=\"Root: \"):\n",
        "    if node is not None:\n",
        "        print(\" \" * (level * 4) + prefix + str(node.value)+\"  index: \"+str(node.index))\n",
        "        if node.left or node.right:\n",
        "            print_tree(node.left, level + 1, \"L--- \")\n",
        "            print_tree(node.right, level + 1, \"R--- \")"
      ],
      "metadata": {
        "id": "K0IaUR-oI0p6"
      },
      "execution_count": null,
      "outputs": []
    },
    {
      "cell_type": "code",
      "source": [
        "def find_node_by_value(node, value):\n",
        "    if node is None:\n",
        "        return None\n",
        "    if node.value == value:\n",
        "        return node\n",
        "    left_result = find_node_by_value(node.left, value)\n",
        "    right_result = find_node_by_value(node.right, value)\n",
        "    return left_result or right_result"
      ],
      "metadata": {
        "id": "ytHGNfOzJH8E"
      },
      "execution_count": null,
      "outputs": []
    },
    {
      "cell_type": "code",
      "source": [
        "def find_node_by_index(node,index):\n",
        "\n",
        "    if node is None:\n",
        "        return [None, None, None]\n",
        "    if node.index == index:\n",
        "\n",
        "        return [None,node,'root']\n",
        "    if node.left is not None:\n",
        "        if node.left.index==index:\n",
        "\n",
        "            return [node, node.left,'l']\n",
        "    if node.right is not None:\n",
        "        if node.right.index==index:\n",
        "\n",
        "            return [node, node.right,'r']\n",
        "    left_result = find_node_by_index(node.left, index)\n",
        "    right_result = find_node_by_index(node.right, index)\n",
        "\n",
        "    if(left_result[1]==None):\n",
        "        return  right_result\n",
        "    if (right_result[1] == None):\n",
        "        return left_result"
      ],
      "metadata": {
        "id": "EN2Tf57aJH-w"
      },
      "execution_count": null,
      "outputs": []
    },
    {
      "cell_type": "code",
      "source": [
        "def swap_nodes_values(node, index1, index2):\n",
        "    [parent1,node1,pose1]=find_node_by_index(node,index1)\n",
        "    [parent2,node2,pose2]=find_node_by_index(node,index2)\n",
        "    if(pose1=='l'):\n",
        "        if(pose2=='l'):\n",
        "            parent1.left, parent2.left = parent2.left, parent1.left\n",
        "        if (pose2 == 'r'):\n",
        "            parent1.left, parent2.right = parent2.right, parent1.left\n",
        "    if (pose1 == 'r'):\n",
        "        if (pose2 == 'l'):\n",
        "            parent1.right, parent2.left = parent2.left, parent1.right\n",
        "        if (pose2 == 'r'):\n",
        "            parent1.right, parent2.right = parent2.right, parent1.right\n",
        "    return node"
      ],
      "metadata": {
        "id": "iJrOGTCHJIBP"
      },
      "execution_count": null,
      "outputs": []
    },
    {
      "cell_type": "code",
      "source": [
        "def swap_elements_in_tree(root, value1, value2):\n",
        "    node1 = find_node_by_value(root, value1)\n",
        "    node2 = find_node_by_value(root, value2)\n",
        "\n",
        "    node1, node2 =  node2, node1"
      ],
      "metadata": {
        "id": "xPiYVF7SJIJ3"
      },
      "execution_count": null,
      "outputs": []
    },
    {
      "cell_type": "code",
      "source": [
        "def build_expression_from_tree(node):\n",
        "    if node is None:\n",
        "        return \"\"\n",
        "    if node.left is None and node.right is None:\n",
        "        return str(node.value)\n",
        "\n",
        "    left_expression = build_expression_from_tree(node.left)\n",
        "    right_expression = build_expression_from_tree(node.right)\n",
        "\n",
        "    if node.value == \"l\":  # Логарифм\n",
        "        return f\"ln({right_expression})\"\n",
        "    elif node.value == \"e\":  # Экспонента\n",
        "        return f\"exp({right_expression})\"\n",
        "    else:\n",
        "        return f\"({left_expression} {node.value} {right_expression})\""
      ],
      "metadata": {
        "id": "mW3vOrAWIvji"
      },
      "execution_count": null,
      "outputs": []
    },
    {
      "cell_type": "code",
      "execution_count": null,
      "metadata": {
        "id": "Qx10T016VwKn",
        "colab": {
          "base_uri": "https://localhost:8080/"
        },
        "outputId": "8a2f4a7b-8e85-4a3f-dab3-407497255e16"
      },
      "outputs": [
        {
          "output_type": "stream",
          "name": "stdout",
          "text": [
            "3 * x + ln(x) + x\n",
            "3   x  *    x  l   +    x +\n",
            "Дерево перед обменом:\n",
            "Root: +  index: 7\n",
            "    L--- +  index: 5\n",
            "        L--- *  index: 2\n",
            "            L--- 3  index: 0\n",
            "            R--- x  index: 1\n",
            "        R--- l  index: 4\n",
            "            R--- x  index: 3\n",
            "    R--- x  index: 6\n"
          ]
        }
      ],
      "source": [
        "# Пример использования\n",
        "expression = \"3 * x + ln(x) + x\"# \"3*x+ln(x)/x-exp(3*x)+ln(x/4)\"\n",
        "postfix_expression = postfix(expression)\n",
        "print(expression)\n",
        "print(postfix_expression)\n",
        "expression_tree = build_expression_tree(postfix_expression)\n",
        "print(\"Дерево перед обменом:\")\n",
        "print_tree(expression_tree)"
      ]
    },
    {
      "cell_type": "code",
      "source": [
        "print(\"\\nДерево после обмена:\")\n",
        "\n",
        "for i in range(22):\n",
        "    a=random.randint(0,16)\n",
        "    b = random.randint(0, 16)\n",
        "    ff=swap_nodes_values(expression_tree,a,b)\n",
        "\n",
        "   # print_tree(ff)\n",
        "\n",
        "    result_expression = build_expression_from_tree(expression_tree)\n",
        "\n",
        "    p=postfix(result_expression)\n",
        "\n",
        "    print(\"\\nВыражение из дерева:\", result_expression)\n",
        "    print(count_exp(random.randint(1, 4), 5, 1, p))"
      ],
      "metadata": {
        "colab": {
          "base_uri": "https://localhost:8080/"
        },
        "id": "-KAqe4auGtn0",
        "outputId": "ada5baa2-4d99-48b4-c44e-c2b461b9cad5"
      },
      "execution_count": null,
      "outputs": [
        {
          "output_type": "stream",
          "name": "stdout",
          "text": [
            "\n",
            "Дерево после обмена:\n",
            "\n",
            "Выражение из дерева: (((3 * x) + ln(x)) + x)\n",
            "4.0\n",
            "\n",
            "Выражение из дерева: (((3 * x) + ln(x)) + x)\n",
            "13.09861228866811\n",
            "\n",
            "Выражение из дерева: (((3 * x) + ln(x)) + x)\n",
            "4.0\n",
            "\n",
            "Выражение из дерева: (((3 * x) + ln(x)) + x)\n",
            "4.0\n",
            "\n",
            "Выражение из дерева: (((3 * x) + ln(x)) + x)\n",
            "17.38629436111989\n",
            "\n",
            "Выражение из дерева: (((3 * x) + ln(x)) + x)\n",
            "13.09861228866811\n",
            "\n",
            "Выражение из дерева: (((ln(x) * x) + 3) + x)\n",
            "12.545177444479563\n",
            "\n",
            "Выражение из дерева: (((ln(x) * x) + 3) + x)\n",
            "6.386294361119891\n",
            "\n",
            "Выражение из дерева: (((ln(x) * x) + 3) + x)\n",
            "9.29583686600433\n",
            "\n",
            "Выражение из дерева: (((ln(x) * x) + 3) + x)\n",
            "4.0\n",
            "\n",
            "Выражение из дерева: (((ln(x) * x) + 3) + x)\n",
            "12.545177444479563\n",
            "\n",
            "Выражение из дерева: (((ln(x) * x) + 3) + x)\n",
            "9.29583686600433\n",
            "\n",
            "Выражение из дерева: (((ln(x) * x) + 3) + x)\n",
            "4.0\n",
            "\n",
            "Выражение из дерева: (((ln(x) * x) + 3) + x)\n",
            "4.0\n",
            "\n",
            "Выражение из дерева: (((ln(x) * x) + 3) + x)\n",
            "9.29583686600433\n",
            "\n",
            "Выражение из дерева: (((ln(x) * x) + 3) + x)\n",
            "4.0\n",
            "\n",
            "Выражение из дерева: (((ln(x) * x) + 3) + x)\n",
            "12.545177444479563\n",
            "\n",
            "Выражение из дерева: (((ln(x) * x) + 3) + x)\n",
            "4.0\n",
            "\n",
            "Выражение из дерева: (((ln(x) * x) + 3) + x)\n",
            "9.29583686600433\n",
            "\n",
            "Выражение из дерева: (((ln(x) * x) + 3) + x)\n",
            "6.386294361119891\n",
            "\n",
            "Выражение из дерева: (((ln(x) * x) + 3) + x)\n",
            "4.0\n",
            "\n",
            "Выражение из дерева: (((ln(x) * x) + 3) + x)\n",
            "12.545177444479563\n"
          ]
        }
      ]
    },
    {
      "cell_type": "code",
      "source": [],
      "metadata": {
        "id": "V1_nLkFYJ827"
      },
      "execution_count": null,
      "outputs": []
    }
  ]
}