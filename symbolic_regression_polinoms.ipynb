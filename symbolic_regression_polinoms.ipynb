{
  "nbformat": 4,
  "nbformat_minor": 0,
  "metadata": {
    "colab": {
      "provenance": [],
      "mount_file_id": "1pdhHl1P3rq_poIY8d20ZCVtOm3cqPtDh",
      "authorship_tag": "ABX9TyNeSD0SBJZzrG999fvXsJZC",
      "include_colab_link": true
    },
    "kernelspec": {
      "name": "python3",
      "display_name": "Python 3"
    },
    "language_info": {
      "name": "python"
    }
  },
  "cells": [
    {
      "cell_type": "markdown",
      "metadata": {
        "id": "view-in-github",
        "colab_type": "text"
      },
      "source": [
        "<a href=\"https://colab.research.google.com/github/ArtemBurenok/genetic_algorithms/blob/main/symbolic_regression_polinoms.ipynb\" target=\"_parent\"><img src=\"https://colab.research.google.com/assets/colab-badge.svg\" alt=\"Open In Colab\"/></a>"
      ]
    },
    {
      "cell_type": "code",
      "source": [
        "!pip install pyglyph"
      ],
      "metadata": {
        "colab": {
          "base_uri": "https://localhost:8080/"
        },
        "id": "u1iS-j2I8R-S",
        "outputId": "4c531a2e-1d89-4cc9-c111-93a0073f0e12"
      },
      "execution_count": null,
      "outputs": [
        {
          "output_type": "stream",
          "name": "stdout",
          "text": [
            "Collecting pyglyph\n",
            "  Downloading pyglyph-0.5.3-py3-none-any.whl (40 kB)\n",
            "\u001b[2K     \u001b[90m━━━━━━━━━━━━━━━━━━━━━━━━━━━━━━━━━━━━━━━━\u001b[0m \u001b[32m40.3/40.3 kB\u001b[0m \u001b[31m1.6 MB/s\u001b[0m eta \u001b[36m0:00:00\u001b[0m\n",
            "\u001b[?25hCollecting deap (from pyglyph)\n",
            "  Downloading deap-1.4.1-cp310-cp310-manylinux_2_5_x86_64.manylinux1_x86_64.manylinux_2_17_x86_64.manylinux2014_x86_64.whl (135 kB)\n",
            "\u001b[2K     \u001b[90m━━━━━━━━━━━━━━━━━━━━━━━━━━━━━━━━━━━━━━━━\u001b[0m \u001b[32m135.4/135.4 kB\u001b[0m \u001b[31m7.1 MB/s\u001b[0m eta \u001b[36m0:00:00\u001b[0m\n",
            "\u001b[?25hCollecting dill (from pyglyph)\n",
            "  Downloading dill-0.3.8-py3-none-any.whl (116 kB)\n",
            "\u001b[2K     \u001b[90m━━━━━━━━━━━━━━━━━━━━━━━━━━━━━━━━━━━━━━━━\u001b[0m \u001b[32m116.3/116.3 kB\u001b[0m \u001b[31m15.8 MB/s\u001b[0m eta \u001b[36m0:00:00\u001b[0m\n",
            "\u001b[?25hRequirement already satisfied: numpy in /usr/local/lib/python3.10/dist-packages (from pyglyph) (1.25.2)\n",
            "Requirement already satisfied: pyyaml in /usr/local/lib/python3.10/dist-packages (from pyglyph) (6.0.1)\n",
            "Requirement already satisfied: scipy in /usr/local/lib/python3.10/dist-packages (from pyglyph) (1.11.4)\n",
            "Requirement already satisfied: sympy in /usr/local/lib/python3.10/dist-packages (from pyglyph) (1.12)\n",
            "Requirement already satisfied: toolz in /usr/local/lib/python3.10/dist-packages (from pyglyph) (0.12.1)\n",
            "Requirement already satisfied: pyzmq in /usr/local/lib/python3.10/dist-packages (from pyglyph) (23.2.1)\n",
            "Requirement already satisfied: matplotlib in /usr/local/lib/python3.10/dist-packages (from pyglyph) (3.7.1)\n",
            "Collecting cache.py==0.1.3 (from pyglyph)\n",
            "  Downloading cache.py-0.1.3-py3-none-any.whl (3.3 kB)\n",
            "Collecting deprecated (from pyglyph)\n",
            "  Downloading Deprecated-1.2.14-py2.py3-none-any.whl (9.6 kB)\n",
            "Collecting stopit (from pyglyph)\n",
            "  Downloading stopit-1.1.2.tar.gz (18 kB)\n",
            "  Preparing metadata (setup.py) ... \u001b[?25l\u001b[?25hdone\n",
            "Requirement already satisfied: joblib in /usr/local/lib/python3.10/dist-packages (from cache.py==0.1.3->pyglyph) (1.3.2)\n",
            "Collecting sqlitedict (from cache.py==0.1.3->pyglyph)\n",
            "  Downloading sqlitedict-2.1.0.tar.gz (21 kB)\n",
            "  Preparing metadata (setup.py) ... \u001b[?25l\u001b[?25hdone\n",
            "Requirement already satisfied: wrapt<2,>=1.10 in /usr/local/lib/python3.10/dist-packages (from deprecated->pyglyph) (1.14.1)\n",
            "Requirement already satisfied: contourpy>=1.0.1 in /usr/local/lib/python3.10/dist-packages (from matplotlib->pyglyph) (1.2.0)\n",
            "Requirement already satisfied: cycler>=0.10 in /usr/local/lib/python3.10/dist-packages (from matplotlib->pyglyph) (0.12.1)\n",
            "Requirement already satisfied: fonttools>=4.22.0 in /usr/local/lib/python3.10/dist-packages (from matplotlib->pyglyph) (4.48.1)\n",
            "Requirement already satisfied: kiwisolver>=1.0.1 in /usr/local/lib/python3.10/dist-packages (from matplotlib->pyglyph) (1.4.5)\n",
            "Requirement already satisfied: packaging>=20.0 in /usr/local/lib/python3.10/dist-packages (from matplotlib->pyglyph) (23.2)\n",
            "Requirement already satisfied: pillow>=6.2.0 in /usr/local/lib/python3.10/dist-packages (from matplotlib->pyglyph) (9.4.0)\n",
            "Requirement already satisfied: pyparsing>=2.3.1 in /usr/local/lib/python3.10/dist-packages (from matplotlib->pyglyph) (3.1.1)\n",
            "Requirement already satisfied: python-dateutil>=2.7 in /usr/local/lib/python3.10/dist-packages (from matplotlib->pyglyph) (2.8.2)\n",
            "Requirement already satisfied: mpmath>=0.19 in /usr/local/lib/python3.10/dist-packages (from sympy->pyglyph) (1.3.0)\n",
            "Requirement already satisfied: six>=1.5 in /usr/local/lib/python3.10/dist-packages (from python-dateutil>=2.7->matplotlib->pyglyph) (1.16.0)\n",
            "Building wheels for collected packages: stopit, sqlitedict\n",
            "  Building wheel for stopit (setup.py) ... \u001b[?25l\u001b[?25hdone\n",
            "  Created wheel for stopit: filename=stopit-1.1.2-py3-none-any.whl size=11937 sha256=fe2f110e8e6227c6a5816446f5aeba4509c23084076083cd1ff328af48a47b70\n",
            "  Stored in directory: /root/.cache/pip/wheels/af/f9/87/bf5b3d565c2a007b4dae9d8142dccc85a9f164e517062dd519\n",
            "  Building wheel for sqlitedict (setup.py) ... \u001b[?25l\u001b[?25hdone\n",
            "  Created wheel for sqlitedict: filename=sqlitedict-2.1.0-py3-none-any.whl size=16863 sha256=39c6fc7dcdaf768ae50ac463480bcaa922d0bfdd61f3fd0759c842c69b964885\n",
            "  Stored in directory: /root/.cache/pip/wheels/79/d6/e7/304e0e6cb2221022c26d8161f7c23cd4f259a9e41e8bbcfabd\n",
            "Successfully built stopit sqlitedict\n",
            "Installing collected packages: stopit, sqlitedict, dill, deprecated, deap, cache.py, pyglyph\n",
            "Successfully installed cache.py-0.1.3 deap-1.4.1 deprecated-1.2.14 dill-0.3.8 pyglyph-0.5.3 sqlitedict-2.1.0 stopit-1.1.2\n"
          ]
        }
      ]
    },
    {
      "cell_type": "code",
      "execution_count": null,
      "metadata": {
        "id": "2TLIx9h_74zW"
      },
      "outputs": [],
      "source": [
        "from functools import partial\n",
        "\n",
        "import deap.gp\n",
        "import deap.tools\n",
        "import numpy as np\n",
        "\n",
        "from glyph import gp\n",
        "from glyph.assessment import const_opt\n",
        "from glyph.utils import Memoize\n",
        "from glyph.utils.numeric import nrmse, silent_numpy\n",
        "import pandas as pd"
      ]
    },
    {
      "cell_type": "code",
      "source": [
        "pset = gp.numpy_primitive_set(arity=1, categories=[\"algebraic\", \"trigonometric\", \"exponential\", \"symc\"])\n",
        "Individual = gp.Individual(pset=pset)"
      ],
      "metadata": {
        "id": "QURpvyXU8fxn"
      },
      "execution_count": null,
      "outputs": []
    },
    {
      "cell_type": "code",
      "source": [
        "data = pd.read_excel('/content/drive/MyDrive/ls_variants.xls', sheet_name='вар. 3')"
      ],
      "metadata": {
        "id": "hG2aU7NOqAT4"
      },
      "execution_count": null,
      "outputs": []
    },
    {
      "cell_type": "code",
      "source": [
        "@silent_numpy\n",
        "def error(ind, *args):\n",
        "    # g = lambda x: x ** 2 - 1.1\n",
        "    points = np.array(data['x']) # np.linspace(-1, 1, 100, endpoint=True)\n",
        "    y = np.array(data['y'])\n",
        "    f = gp.individual.numpy_phenotype(ind)\n",
        "    yhat = f(points, *args)\n",
        "\n",
        "    if np.isscalar(yhat):\n",
        "        yhat = np.ones_like(y) * yhat\n",
        "\n",
        "    return nrmse(y, yhat)"
      ],
      "metadata": {
        "id": "ZuuKnqgV-qKa"
      },
      "execution_count": null,
      "outputs": []
    },
    {
      "cell_type": "code",
      "source": [
        "@Memoize\n",
        "def measure(ind):\n",
        "    popt, err_opr = const_opt(error, ind)\n",
        "    ind.popt = popt\n",
        "    return err_opr, len(ind)"
      ],
      "metadata": {
        "id": "z1nIHX4x_LPD"
      },
      "execution_count": null,
      "outputs": []
    },
    {
      "cell_type": "code",
      "source": [
        "def update_fitness(population, map=map):\n",
        "    invalid = [p for p in population if not p.fitness.valid]\n",
        "    fitnesses = map(measure, invalid)\n",
        "    for ind, fit in zip(invalid, fitnesses):\n",
        "        ind.fitness.values = fit\n",
        "    return population"
      ],
      "metadata": {
        "id": "pPiBOy7K_NsY"
      },
      "execution_count": null,
      "outputs": []
    },
    {
      "cell_type": "code",
      "source": [
        "def main():\n",
        "    pop_size = 100\n",
        "\n",
        "    mate = deap.gp.cxOnePoint\n",
        "    expr_mut = partial(deap.gp.genFull, min_=0, max_=2)\n",
        "    mutate = partial(deap.gp.mutUniform, expr=expr_mut, pset=Individual.pset)\n",
        "\n",
        "    algorithm = gp.algorithms.AgeFitness(mate, mutate, deap.tools.selNSGA2, Individual.create_population)\n",
        "\n",
        "    pop = update_fitness(Individual.create_population(pop_size))\n",
        "\n",
        "    for gen in range(20):\n",
        "        pop = algorithm.evolve(pop)\n",
        "        pop = update_fitness(pop)\n",
        "        best = deap.tools.selBest(pop, 1)[0]\n",
        "        print(gp.individual.simplify_this(best), best.fitness.values)\n",
        "\n",
        "        if best.fitness.values[0] <= 1e-3:\n",
        "            break"
      ],
      "metadata": {
        "id": "Np-1_y-i_d__"
      },
      "execution_count": null,
      "outputs": []
    },
    {
      "cell_type": "code",
      "source": [
        "main()"
      ],
      "metadata": {
        "colab": {
          "base_uri": "https://localhost:8080/"
        },
        "id": "xXtm1WnJ_gXQ",
        "outputId": "ef152a6f-0662-41d2-d39b-839f05939016"
      },
      "execution_count": null,
      "outputs": [
        {
          "output_type": "stream",
          "name": "stdout",
          "text": [
            "Symc/(-Symc + exp(sin(cos(Symc - x_0))) + cos(Symc)) (0.22121089716948003, 13.0)\n",
            "Symc/(-Symc + exp(sin(cos(Symc - x_0))) + cos(Symc)) (0.22121089716948003, 13.0)\n",
            "Symc/(-Symc + exp(sin(cos(Symc - x_0))) + cos(Symc)) (0.22121089716948003, 13.0)\n",
            "-Symc*sin(Symc*(Symc + x_0) - x_0)/x_0 (0.2187115963891447, 12.0)\n",
            "-Symc*sin(Symc*(Symc + x_0) - x_0)/x_0 (0.2187115963891447, 12.0)\n",
            "-Symc*sin(Symc + sin(Symc - x_0))/x_0 (0.2164672111451032, 11.0)\n",
            "-Symc*sin(Symc + sin(Symc - x_0))/x_0 (0.2164672111451032, 11.0)\n",
            "-Symc*sin(Symc + sin(Symc - x_0))/x_0 (0.2164672111451032, 11.0)\n",
            "-Symc*sin(Symc + sin(Symc - x_0))/x_0 (0.2164672111451032, 11.0)\n",
            "sin(Symc - log(x_0))/(Symc + sin(Symc - x_0)) (0.21409751093405407, 12.0)\n",
            "-Symc*sin(Symc + sin(Symc - log(x_0)))/x_0 (0.2130764868764422, 12.0)\n",
            "-Symc*sin(Symc + sin(Symc - x_0)/Symc)/x_0 (0.21163274060292858, 13.0)\n",
            "-Symc*sin(Symc + sin(Symc - x_0)/Symc)/x_0 (0.21163274060292858, 13.0)\n",
            "-Symc*sin(Symc + sin(Symc - x_0)/Symc)/x_0 (0.21163274060292858, 13.0)\n",
            "-Symc*sin(Symc + sin(Symc - x_0)/Symc)/x_0 (0.21163274060292858, 13.0)\n",
            "-Symc*sin(Symc + sin(Symc - x_0)/Symc)/x_0 (0.21163274060292858, 13.0)\n",
            "-exp(x_0)*sin(Symc + sin(Symc - x_0)/Symc)/x_0 (0.1959026211782685, 14.0)\n",
            "Symc*sin(Symc + sin(Symc - x_0)/Symc)/(Symc**2 - x_0) (0.0961028269877501, 15.0)\n",
            "Symc*sin(Symc + sin(Symc - x_0)/Symc)/(Symc**2 - x_0) (0.0961028269877501, 15.0)\n",
            "Symc*sin(Symc + sin(Symc - x_0)/Symc)/(Symc**2 - x_0) (0.0961028269877501, 15.0)\n"
          ]
        }
      ]
    },
    {
      "cell_type": "markdown",
      "source": [
        "## Realization of genetic algorithm"
      ],
      "metadata": {
        "id": "WYQsUC_c3ljA"
      }
    },
    {
      "cell_type": "code",
      "source": [
        "import numpy as np\n",
        "import matplotlib.pyplot as plt\n",
        "import random"
      ],
      "metadata": {
        "id": "FWqV7adY6cMN"
      },
      "execution_count": null,
      "outputs": []
    },
    {
      "cell_type": "code",
      "source": [
        "class symbolic_regression:\n",
        "    def __init__(self, x, y, num_chromosome):\n",
        "        self.x = x\n",
        "        self.y = y\n",
        "        self.num_chromosome = num_chromosome\n",
        "        self.degrees = np.array([10, 9 , 8, 7, 6, 5, 4, 3, 2, 1])\n",
        "        self.population = self.generate_chromosome()\n",
        "\n",
        "    def generate_chromosome(self):\n",
        "        begin_population = []\n",
        "\n",
        "        for i in range(self.num_chromosome):\n",
        "            zero_one = np.random.randint(0, 2, size=10)\n",
        "            begin_population.append(self.degrees * zero_one.T)\n",
        "\n",
        "        return np.array(begin_population)\n",
        "\n",
        "    def fitness_function(self, population):\n",
        "        chromo_value = []\n",
        "\n",
        "        for chromo in population:\n",
        "            y_prediction = np.zeros(self.y.shape[0])\n",
        "            for degree in chromo:\n",
        "                if degree != 0:\n",
        "                    y_prediction += np.power(self.x, degree)\n",
        "            chromo_value.append(y_prediction)\n",
        "\n",
        "        error = [np.sum(np.power(np.array(chromo_value)[i] - self.y, 2)) * 1 / self.y.shape[0] for i in range(self.num_chromosome)]\n",
        "        return error\n",
        "\n",
        "    def selection(self, population):\n",
        "        population = self.generate_chromosome()\n",
        "        error_for_population = self.fitness_function(population)\n",
        "\n",
        "        sum_error = np.sum(error_for_population)\n",
        "        normal_error_value = [sum_error - error_for_population[i] for i in range(len(error_for_population))]\n",
        "\n",
        "        sum_normal_error = np.sum(normal_error_value)\n",
        "        normal_error_value = [normal_error_value[i] / sum_normal_error for i in range(len(normal_error_value))]\n",
        "\n",
        "        new_population = []\n",
        "        for i in range(self.num_chromosome):\n",
        "            new_population.append(random.choices(population, weights=normal_error_value)[0])\n",
        "\n",
        "        return np.array(new_population)\n",
        "\n",
        "    def mutation(self, population):\n",
        "        mutate_population = []\n",
        "\n",
        "        for element in population:\n",
        "            random_elem_index = random.choice(range(len(element)))\n",
        "            element[random_elem_index] = 0\n",
        "            mutate_population.append(element)\n",
        "\n",
        "        return np.array(mutate_population)\n",
        "\n",
        "    def train(self, count_iteration):\n",
        "        for i in range(count_iteration):\n",
        "            selected_population = self.selection(self.population)\n",
        "            cross_population = self.crossing(selected_population)\n",
        "            self.population = self.mutation(cross_population)\n",
        "\n",
        "\n",
        "        errors = self.fitness_function(self.population)\n",
        "        min_error = min(errors)\n",
        "        min_error_index = errors.index(min_error)\n",
        "\n",
        "        best_polinom_degrees = self.population[min_error_index]\n",
        "\n",
        "        return self.population[min_error_index]\n",
        "\n",
        "    def crossing(self, population):\n",
        "        new_generation = []\n",
        "        for i in range(len(population)):\n",
        "            for j in range(len(population)):\n",
        "                left_side_1, right_side_1 = population[i][:int(len(population[i]) // 2)], population[i][int(len(population[i]) // 2):]\n",
        "                left_side_2, right_side_2 = population[j][:int(len(population[j]) // 2)], population[j][int(len(population[j]) // 2):]\n",
        "\n",
        "                new_generation.append(list(left_side_1) + list(right_side_2))\n",
        "                new_generation.append(list(left_side_2) + list(right_side_1))\n",
        "\n",
        "        return np.array(new_generation)"
      ],
      "metadata": {
        "id": "Awylgm03_iYD"
      },
      "execution_count": null,
      "outputs": []
    },
    {
      "cell_type": "code",
      "source": [
        "def function(x):\n",
        "    return x ** 3 - 3 * x + 5"
      ],
      "metadata": {
        "id": "5xhIozLcBaFV"
      },
      "execution_count": null,
      "outputs": []
    },
    {
      "cell_type": "code",
      "source": [
        "x = np.linspace(0, 20, 1000)\n",
        "y = function(x)\n",
        "\n",
        "regression = symbolic_regression(x, y, 100)"
      ],
      "metadata": {
        "id": "FDM7bSrEDtt7"
      },
      "execution_count": null,
      "outputs": []
    },
    {
      "cell_type": "code",
      "source": [
        "train_value = regression.train(70)"
      ],
      "metadata": {
        "id": "VSEYIDbQhmZT"
      },
      "execution_count": null,
      "outputs": []
    },
    {
      "cell_type": "code",
      "source": [
        "train_value"
      ],
      "metadata": {
        "colab": {
          "base_uri": "https://localhost:8080/"
        },
        "id": "yHL4PMDwwL96",
        "outputId": "ed7319bf-f473-49e1-f6d6-5a84a70aae56"
      },
      "execution_count": null,
      "outputs": [
        {
          "output_type": "execute_result",
          "data": {
            "text/plain": [
              "array([0, 0, 0, 0, 0, 0, 0, 3, 0, 1])"
            ]
          },
          "metadata": {},
          "execution_count": 25
        }
      ]
    },
    {
      "cell_type": "code",
      "source": [
        "def test_aproximation(x, degrees):\n",
        "    y_prediction = np.zeros(y.shape[0])\n",
        "    for i, degree in enumerate(degrees):\n",
        "        if degree != 0:\n",
        "            y_prediction += np.power(x, degree)\n",
        "\n",
        "    return y_prediction"
      ],
      "metadata": {
        "id": "yjUIKyfsw3Mf"
      },
      "execution_count": null,
      "outputs": []
    },
    {
      "cell_type": "code",
      "source": [
        "plt.title(\"Aproximation\")\n",
        "plt.xlabel('x')\n",
        "plt.ylabel('y')\n",
        "plt.plot(x, y, c='c')\n",
        "plt.plot(x, test_aproximation(x, train_value), c='r')\n",
        "plt.legend(['Real value', 'Prediction'])\n",
        "plt.grid()\n",
        "plt.show()"
      ],
      "metadata": {
        "colab": {
          "base_uri": "https://localhost:8080/",
          "height": 472
        },
        "id": "ZFpMzcktkFUD",
        "outputId": "96cb3d3c-2b0d-4c33-b40d-28741b2d8da4"
      },
      "execution_count": null,
      "outputs": [
        {
          "output_type": "display_data",
          "data": {
            "text/plain": [
              "<Figure size 640x480 with 1 Axes>"
            ],
            "image/png": "[encoded data removed]"
          },
          "metadata": {}
        }
      ]
    },
    {
      "cell_type": "code",
      "source": [],
      "metadata": {
        "id": "tRi9yI_aP6GC"
      },
      "execution_count": null,
      "outputs": []
    }
  ]
}